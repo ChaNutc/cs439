{
 "cells": [
  {
   "cell_type": "code",
   "execution_count": 2,
   "metadata": {},
   "outputs": [],
   "source": [
    "import pandas as pd"
   ]
  },
  {
   "cell_type": "code",
   "execution_count": 3,
   "metadata": {},
   "outputs": [
    {
     "name": "stderr",
     "output_type": "stream",
     "text": [
      "/Library/Frameworks/Python.framework/Versions/3.7/lib/python3.7/site-packages/IPython/core/interactiveshell.py:3058: DtypeWarning: Columns (13,14,23,32,38,44,45,46,47) have mixed types. Specify dtype option on import or set low_memory=False.\n",
      "  interactivity=interactivity, compiler=compiler, result=result)\n"
     ]
    }
   ],
   "source": [
    "df = pd.read_csv('person.csv',encoding='utf8')"
   ]
  },
  {
   "cell_type": "code",
   "execution_count": 4,
   "metadata": {},
   "outputs": [
    {
     "name": "stdout",
     "output_type": "stream",
     "text": [
      "<class 'pandas.core.frame.DataFrame'>\n",
      "RangeIndex: 202142 entries, 0 to 202141\n",
      "Data columns (total 62 columns):\n",
      "PersonID                  202142 non-null int64\n",
      "BarcodeID                 85882 non-null float64\n",
      "TitleTypeID               0 non-null float64\n",
      "TitleID                   0 non-null float64\n",
      "PreName                   201849 non-null object\n",
      "FirstName                 201921 non-null object\n",
      "LastName                  201839 non-null object\n",
      "PreNameEn                 5738 non-null object\n",
      "FirstNameEn               5705 non-null object\n",
      "LastNameEn                5713 non-null object\n",
      "Gender                    201563 non-null object\n",
      "BirthDate                 143379 non-null object\n",
      "IdentificationType        186773 non-null object\n",
      "CitizenID                 178941 non-null object\n",
      "PassportNumber            250 non-null object\n",
      "Nationality               168391 non-null object\n",
      "Race                      99060 non-null object\n",
      "Religion                  54051 non-null object\n",
      "CensusAddress             191043 non-null object\n",
      "CensusMoo                 81663 non-null object\n",
      "CensusVillage             1 non-null float64\n",
      "CensusSoi                 40517 non-null object\n",
      "CensusStreet              80433 non-null object\n",
      "CensusSubDistrictCode     182481 non-null object\n",
      "CensusDistrictCode        190165 non-null float64\n",
      "CensusProvinceCode        196570 non-null float64\n",
      "CensusPostCode            156424 non-null object\n",
      "CensusTelephone           86395 non-null object\n",
      "CensusFax                 6897 non-null object\n",
      "IsSameCensus              198358 non-null object\n",
      "ContactAddress            140498 non-null object\n",
      "ContactMoo                63039 non-null object\n",
      "ContactVillage            2 non-null object\n",
      "ContactSoi                29383 non-null object\n",
      "ContactStreet             51502 non-null object\n",
      "ContactSubDistrictCode    137132 non-null float64\n",
      "ContactDistrictCode       140193 non-null float64\n",
      "ContactProvinceCode       142819 non-null float64\n",
      "ContactPostCode           116812 non-null object\n",
      "ContactTelephone          49113 non-null object\n",
      "ContactFax                4957 non-null object\n",
      "Mobile                    44400 non-null object\n",
      "Email                     5199 non-null object\n",
      "AliveStatus               202142 non-null object\n",
      "DeathType                 10 non-null object\n",
      "DeathDate                 8 non-null object\n",
      "DeathNo                   10 non-null object\n",
      "DeathDescription          8 non-null object\n",
      "MainID                    17847 non-null float64\n",
      "IsFromMerge               17847 non-null float64\n",
      "CreateUserID              202140 non-null float64\n",
      "CreateDate                202140 non-null object\n",
      "ModifyUserID              22442 non-null float64\n",
      "ModifyDate                22442 non-null object\n",
      "IsEnable                  202140 non-null object\n",
      "IsDeleted                 202140 non-null object\n",
      "lcsPermiteeID             20276 non-null float64\n",
      "lcsOperatorID             46117 non-null float64\n",
      "exmExamineeID             48879 non-null float64\n",
      "exmOperatorID             32710 non-null float64\n",
      "exmStudentID              58660 non-null float64\n",
      "lcsPermiteeList           2175 non-null float64\n",
      "dtypes: float64(19), int64(1), object(42)\n",
      "memory usage: 95.6+ MB\n"
     ]
    }
   ],
   "source": [
    "df.info()"
   ]
  },
  {
   "cell_type": "code",
   "execution_count": null,
   "metadata": {},
   "outputs": [],
   "source": []
  }
 ],
 "metadata": {
  "kernelspec": {
   "display_name": "Python 3",
   "language": "python",
   "name": "python3"
  },
  "language_info": {
   "codemirror_mode": {
    "name": "ipython",
    "version": 3
   },
   "file_extension": ".py",
   "mimetype": "text/x-python",
   "name": "python",
   "nbconvert_exporter": "python",
   "pygments_lexer": "ipython3",
   "version": "3.7.4"
  }
 },
 "nbformat": 4,
 "nbformat_minor": 2
}
