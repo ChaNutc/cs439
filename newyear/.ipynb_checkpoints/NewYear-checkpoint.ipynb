{
 "cells": [
  {
   "cell_type": "code",
   "execution_count": 1,
   "metadata": {},
   "outputs": [],
   "source": [
    "import pandas as pd\n",
    "import matplotlib.pyplot as plt\n",
    "import numpy as np"
   ]
  },
  {
   "cell_type": "code",
   "execution_count": 2,
   "metadata": {},
   "outputs": [],
   "source": [
    "df = pd.read_excel('NewYear.xlsx')"
   ]
  },
  {
   "cell_type": "code",
   "execution_count": 3,
   "metadata": {},
   "outputs": [
    {
     "data": {
      "text/html": [
       "<div>\n",
       "<style scoped>\n",
       "    .dataframe tbody tr th:only-of-type {\n",
       "        vertical-align: middle;\n",
       "    }\n",
       "\n",
       "    .dataframe tbody tr th {\n",
       "        vertical-align: top;\n",
       "    }\n",
       "\n",
       "    .dataframe thead th {\n",
       "        text-align: right;\n",
       "    }\n",
       "</style>\n",
       "<table border=\"1\" class=\"dataframe\">\n",
       "  <thead>\n",
       "    <tr style=\"text-align: right;\">\n",
       "      <th></th>\n",
       "      <th>ชื่อเทศกาล</th>\n",
       "      <th>รหัสจังหวัด</th>\n",
       "      <th>จังหวัด</th>\n",
       "      <th>รหัส รพ.</th>\n",
       "      <th>ชื่อโรงพยาบาลที่รับผู้บาดเจ็บ</th>\n",
       "      <th>วันที่เกิดเหตุ</th>\n",
       "      <th>เวลาเกิดเหตุ</th>\n",
       "      <th>เพศ</th>\n",
       "      <th>อายุ</th>\n",
       "      <th>ถนนที่เกิดเหตุ</th>\n",
       "      <th>สถานะ</th>\n",
       "      <th>รถผู้บาดเจ็บ</th>\n",
       "      <th>รถคู่กรณี</th>\n",
       "      <th>มาตรการ</th>\n",
       "      <th>การดื่มสุรา</th>\n",
       "      <th>การนำส่ง</th>\n",
       "      <th>Refer-Admit</th>\n",
       "      <th>ผลการรักษา</th>\n",
       "      <th>จำนวนวันรักษา</th>\n",
       "    </tr>\n",
       "  </thead>\n",
       "  <tbody>\n",
       "    <tr>\n",
       "      <th>0</th>\n",
       "      <td>ปีใหม่ 51</td>\n",
       "      <td>10</td>\n",
       "      <td>กรุงเทพมหานคร</td>\n",
       "      <td>11630</td>\n",
       "      <td>กรุงเทพ</td>\n",
       "      <td>3</td>\n",
       "      <td>12:01-13:00 น.</td>\n",
       "      <td>หญิง</td>\n",
       "      <td>54</td>\n",
       "      <td>ในเมือง</td>\n",
       "      <td>ผู้ชับขี่</td>\n",
       "      <td>รถเก๋ง/แท็กซี่</td>\n",
       "      <td>ไม่มี/ล้มเอง</td>\n",
       "      <td>เข็มขัด</td>\n",
       "      <td>ไม่ดื่ม</td>\n",
       "      <td>ผู้ประสบเหตุ/ญาติ</td>\n",
       "      <td>ไม่</td>\n",
       "      <td>ทุเลา/หาย</td>\n",
       "      <td>0</td>\n",
       "    </tr>\n",
       "  </tbody>\n",
       "</table>\n",
       "</div>"
      ],
      "text/plain": [
       "  ชื่อเทศกาล  รหัสจังหวัด        จังหวัด  รหัส รพ.  \\\n",
       "0  ปีใหม่ 51           10  กรุงเทพมหานคร     11630   \n",
       "\n",
       "  ชื่อโรงพยาบาลที่รับผู้บาดเจ็บ  วันที่เกิดเหตุ    เวลาเกิดเหตุ   เพศ  อายุ  \\\n",
       "0                       กรุงเทพ               3  12:01-13:00 น.  หญิง    54   \n",
       "\n",
       "  ถนนที่เกิดเหตุ      สถานะ    รถผู้บาดเจ็บ     รถคู่กรณี  มาตรการ  \\\n",
       "0        ในเมือง  ผู้ชับขี่  รถเก๋ง/แท็กซี่  ไม่มี/ล้มเอง  เข็มขัด   \n",
       "\n",
       "  การดื่มสุรา           การนำส่ง Refer-Admit ผลการรักษา  จำนวนวันรักษา  \n",
       "0     ไม่ดื่ม  ผู้ประสบเหตุ/ญาติ         ไม่  ทุเลา/หาย              0  "
      ]
     },
     "execution_count": 3,
     "metadata": {},
     "output_type": "execute_result"
    }
   ],
   "source": [
    "df.head(1)"
   ]
  },
  {
   "cell_type": "code",
   "execution_count": 4,
   "metadata": {},
   "outputs": [
    {
     "data": {
      "text/html": [
       "<div>\n",
       "<style scoped>\n",
       "    .dataframe tbody tr th:only-of-type {\n",
       "        vertical-align: middle;\n",
       "    }\n",
       "\n",
       "    .dataframe tbody tr th {\n",
       "        vertical-align: top;\n",
       "    }\n",
       "\n",
       "    .dataframe thead tr th {\n",
       "        text-align: left;\n",
       "    }\n",
       "\n",
       "    .dataframe thead tr:last-of-type th {\n",
       "        text-align: right;\n",
       "    }\n",
       "</style>\n",
       "<table border=\"1\" class=\"dataframe\">\n",
       "  <thead>\n",
       "    <tr>\n",
       "      <th></th>\n",
       "      <th>ชื่อเทศกาล</th>\n",
       "    </tr>\n",
       "    <tr>\n",
       "      <th></th>\n",
       "      <th>count</th>\n",
       "    </tr>\n",
       "    <tr>\n",
       "      <th>ชื่อเทศกาล</th>\n",
       "      <th></th>\n",
       "    </tr>\n",
       "  </thead>\n",
       "  <tbody>\n",
       "    <tr>\n",
       "      <th>ปีใหม่ 51</th>\n",
       "      <td>30866</td>\n",
       "    </tr>\n",
       "    <tr>\n",
       "      <th>ปีใหม่ 52</th>\n",
       "      <td>27283</td>\n",
       "    </tr>\n",
       "    <tr>\n",
       "      <th>ปีใหม่ 53</th>\n",
       "      <td>27936</td>\n",
       "    </tr>\n",
       "    <tr>\n",
       "      <th>ปีใหม่ 54</th>\n",
       "      <td>25998</td>\n",
       "    </tr>\n",
       "    <tr>\n",
       "      <th>ปีใหม่ 55</th>\n",
       "      <td>26131</td>\n",
       "    </tr>\n",
       "    <tr>\n",
       "      <th>ปีใหม่ 56</th>\n",
       "      <td>26649</td>\n",
       "    </tr>\n",
       "    <tr>\n",
       "      <th>ปีใหม่ 57</th>\n",
       "      <td>25970</td>\n",
       "    </tr>\n",
       "    <tr>\n",
       "      <th>ปีใหม่ 58</th>\n",
       "      <td>24117</td>\n",
       "    </tr>\n",
       "  </tbody>\n",
       "</table>\n",
       "</div>"
      ],
      "text/plain": [
       "           ชื่อเทศกาล\n",
       "                count\n",
       "ชื่อเทศกาล           \n",
       "ปีใหม่ 51       30866\n",
       "ปีใหม่ 52       27283\n",
       "ปีใหม่ 53       27936\n",
       "ปีใหม่ 54       25998\n",
       "ปีใหม่ 55       26131\n",
       "ปีใหม่ 56       26649\n",
       "ปีใหม่ 57       25970\n",
       "ปีใหม่ 58       24117"
      ]
     },
     "execution_count": 4,
     "metadata": {},
     "output_type": "execute_result"
    }
   ],
   "source": [
    "df.groupby(by='ชื่อเทศกาล').agg({'ชื่อเทศกาล':['count']})\\\n",
    "#df[df['จังหวัด']=='พระนครศรีอยุธยา'].groupby(by='ชื่อเทศกาล').agg({'ชื่อเทศกาล':['count']})\\\n",
    "    #.sort_values(by=('ชื่อเทศกาล','count'),ascending=False)"
   ]
  },
  {
   "cell_type": "code",
   "execution_count": 5,
   "metadata": {},
   "outputs": [
    {
     "data": {
      "text/plain": [
       "<matplotlib.axes._subplots.AxesSubplot at 0x11c433d68>"
      ]
     },
     "execution_count": 5,
     "metadata": {},
     "output_type": "execute_result"
    },
    {
     "data": {
      "image/png": "[encoded data removed]",
      "text/plain": [
       "<Figure size 432x288 with 1 Axes>"
      ]
     },
     "metadata": {
      "needs_background": "light"
     },
     "output_type": "display_data"
    }
   ],
   "source": [
    "df.groupby(by='ชื่อเทศกาล').agg({'ชื่อเทศกาล':['count']}).plot(kind='bar')"
   ]
  },
  {
   "cell_type": "code",
   "execution_count": 6,
   "metadata": {},
   "outputs": [
    {
     "data": {
      "image/png": "[encoded data removed]",
      "text/plain": [
       "<Figure size 432x288 with 1 Axes>"
      ]
     },
     "metadata": {
      "needs_background": "light"
     },
     "output_type": "display_data"
    }
   ],
   "source": [
    "df = df.replace('ปีใหม่ 51','51')\n",
    "df = df.replace('ปีใหม่ 52','52')\n",
    "df = df.replace('ปีใหม่ 53','53')\n",
    "df = df.replace('ปีใหม่ 54','54')\n",
    "df = df.replace('ปีใหม่ 55','55')\n",
    "df = df.replace('ปีใหม่ 56','56')\n",
    "df = df.replace('ปีใหม่ 57','57')\n",
    "df = df.replace('ปีใหม่ 58','58')\n",
    "plt.plot(df.groupby(by='ชื่อเทศกาล').agg({'ชื่อเทศกาล':['count']}))\n",
    "plt.ylabel('some numbers')\n",
    "plt.show()"
   ]
  },
  {
   "cell_type": "code",
   "execution_count": 7,
   "metadata": {},
   "outputs": [
    {
     "data": {
      "text/html": [
       "<div>\n",
       "<style scoped>\n",
       "    .dataframe tbody tr th:only-of-type {\n",
       "        vertical-align: middle;\n",
       "    }\n",
       "\n",
       "    .dataframe tbody tr th {\n",
       "        vertical-align: top;\n",
       "    }\n",
       "\n",
       "    .dataframe thead tr th {\n",
       "        text-align: left;\n",
       "    }\n",
       "\n",
       "    .dataframe thead tr:last-of-type th {\n",
       "        text-align: right;\n",
       "    }\n",
       "</style>\n",
       "<table border=\"1\" class=\"dataframe\">\n",
       "  <thead>\n",
       "    <tr>\n",
       "      <th></th>\n",
       "      <th>การดื่มสุรา</th>\n",
       "    </tr>\n",
       "    <tr>\n",
       "      <th></th>\n",
       "      <th>count</th>\n",
       "    </tr>\n",
       "    <tr>\n",
       "      <th>การดื่มสุรา</th>\n",
       "      <th></th>\n",
       "    </tr>\n",
       "  </thead>\n",
       "  <tbody>\n",
       "    <tr>\n",
       "      <th>ดื่ม</th>\n",
       "      <td>75420</td>\n",
       "    </tr>\n",
       "    <tr>\n",
       "      <th>ไม่ดื่ม</th>\n",
       "      <td>126277</td>\n",
       "    </tr>\n",
       "    <tr>\n",
       "      <th>ไม่ทราบ</th>\n",
       "      <td>13253</td>\n",
       "    </tr>\n",
       "  </tbody>\n",
       "</table>\n",
       "</div>"
      ],
      "text/plain": [
       "            การดื่มสุรา\n",
       "                  count\n",
       "การดื่มสุรา            \n",
       "ดื่ม              75420\n",
       "ไม่ดื่ม          126277\n",
       "ไม่ทราบ           13253"
      ]
     },
     "execution_count": 7,
     "metadata": {},
     "output_type": "execute_result"
    }
   ],
   "source": [
    "df.groupby(by='การดื่มสุรา').agg({'การดื่มสุรา':['count']})"
   ]
  },
  {
   "cell_type": "code",
   "execution_count": 8,
   "metadata": {},
   "outputs": [],
   "source": [
    "drink = df\n",
    "drink = drink.replace('ดื่ม','1')\n",
    "drink = drink.replace('ไม่ดื่ม','0')\n",
    "drink = drink.replace('ไม่ทราบ','-1')\n",
    "drink['การดื่มสุรา'] = drink['การดื่มสุรา'].astype(str).astype(float)\n",
    "a = drink.groupby(by='การดื่มสุรา').agg({'การดื่มสุรา':['count']}).loc[0]\n",
    "b = drink.groupby(by='การดื่มสุรา').agg({'การดื่มสุรา':['count']}).loc[1]\n",
    "c = drink.groupby(by='การดื่มสุรา').agg({'การดื่มสุรา':['count']}).loc[-1]\n",
    "yes = '%.2f' % (a.values[0]/(a.values[0]+b.values[0]+c.values[0])*100)\n",
    "no = '%.2f' % (b.values[0]/(a.values[0]+b.values[0]+c.values[0])*100)\n",
    "dont = '%.2f' % (c.values[0]/(a.values[0]+b.values[0]+c.values[0])*100)"
   ]
  },
  {
   "cell_type": "code",
   "execution_count": 9,
   "metadata": {},
   "outputs": [
    {
     "data": {
      "image/png": "[encoded data removed]",
      "text/plain": [
       "<Figure size 432x288 with 1 Axes>"
      ]
     },
     "metadata": {},
     "output_type": "display_data"
    }
   ],
   "source": [
    "sizes = [float(yes),float(no),float(dont)]\n",
    "labels = 'no','yes','don\\'t know'\n",
    "plt.pie(sizes,labels=labels,autopct='%1.1f%%',explode = (0.03,0.03,0.03), shadow=False, startangle=140)\n",
    "plt.axis('equal')\n",
    "plt.title('Drunk?')\n",
    "plt.show()"
   ]
  },
  {
   "cell_type": "code",
   "execution_count": 10,
   "metadata": {},
   "outputs": [
    {
     "data": {
      "text/html": [
       "<div>\n",
       "<style scoped>\n",
       "    .dataframe tbody tr th:only-of-type {\n",
       "        vertical-align: middle;\n",
       "    }\n",
       "\n",
       "    .dataframe tbody tr th {\n",
       "        vertical-align: top;\n",
       "    }\n",
       "\n",
       "    .dataframe thead tr th {\n",
       "        text-align: left;\n",
       "    }\n",
       "\n",
       "    .dataframe thead tr:last-of-type th {\n",
       "        text-align: right;\n",
       "    }\n",
       "</style>\n",
       "<table border=\"1\" class=\"dataframe\">\n",
       "  <thead>\n",
       "    <tr>\n",
       "      <th></th>\n",
       "      <th>มาตรการ</th>\n",
       "    </tr>\n",
       "    <tr>\n",
       "      <th></th>\n",
       "      <th>count</th>\n",
       "    </tr>\n",
       "    <tr>\n",
       "      <th>มาตรการ</th>\n",
       "      <th></th>\n",
       "    </tr>\n",
       "  </thead>\n",
       "  <tbody>\n",
       "    <tr>\n",
       "      <th>เข็มขัด</th>\n",
       "      <td>5327</td>\n",
       "    </tr>\n",
       "    <tr>\n",
       "      <th>ใส่หมวก</th>\n",
       "      <td>32330</td>\n",
       "    </tr>\n",
       "    <tr>\n",
       "      <th>ไม่ทราบ</th>\n",
       "      <td>12857</td>\n",
       "    </tr>\n",
       "    <tr>\n",
       "      <th>ไม่ใส่</th>\n",
       "      <td>164436</td>\n",
       "    </tr>\n",
       "  </tbody>\n",
       "</table>\n",
       "</div>"
      ],
      "text/plain": [
       "        มาตรการ\n",
       "          count\n",
       "มาตรการ        \n",
       "เข็มขัด    5327\n",
       "ใส่หมวก   32330\n",
       "ไม่ทราบ   12857\n",
       "ไม่ใส่   164436"
      ]
     },
     "execution_count": 10,
     "metadata": {},
     "output_type": "execute_result"
    }
   ],
   "source": [
    "df.groupby(by='มาตรการ').agg({'มาตรการ':['count']})"
   ]
  },
  {
   "cell_type": "code",
   "execution_count": 11,
   "metadata": {},
   "outputs": [
    {
     "data": {
      "text/html": [
       "<div>\n",
       "<style scoped>\n",
       "    .dataframe tbody tr th:only-of-type {\n",
       "        vertical-align: middle;\n",
       "    }\n",
       "\n",
       "    .dataframe tbody tr th {\n",
       "        vertical-align: top;\n",
       "    }\n",
       "\n",
       "    .dataframe thead tr th {\n",
       "        text-align: left;\n",
       "    }\n",
       "\n",
       "    .dataframe thead tr:last-of-type th {\n",
       "        text-align: right;\n",
       "    }\n",
       "</style>\n",
       "<table border=\"1\" class=\"dataframe\">\n",
       "  <thead>\n",
       "    <tr>\n",
       "      <th></th>\n",
       "      <th>ผลการรักษา</th>\n",
       "    </tr>\n",
       "    <tr>\n",
       "      <th></th>\n",
       "      <th>count</th>\n",
       "    </tr>\n",
       "    <tr>\n",
       "      <th>ผลการรักษา</th>\n",
       "      <th></th>\n",
       "    </tr>\n",
       "  </thead>\n",
       "  <tbody>\n",
       "    <tr>\n",
       "      <th>ตายที่ห้องฉุกเฉิน</th>\n",
       "      <td>492</td>\n",
       "    </tr>\n",
       "    <tr>\n",
       "      <th>ตายที่เกิดเหตุ</th>\n",
       "      <td>2137</td>\n",
       "    </tr>\n",
       "    <tr>\n",
       "      <th>ตายระหว่างนำส่ง</th>\n",
       "      <td>111</td>\n",
       "    </tr>\n",
       "    <tr>\n",
       "      <th>ตายระหว่างส่งต่อ</th>\n",
       "      <td>59</td>\n",
       "    </tr>\n",
       "    <tr>\n",
       "      <th>ตายในตึกภายใน 24 ชม. หลังเหตุ</th>\n",
       "      <td>463</td>\n",
       "    </tr>\n",
       "    <tr>\n",
       "      <th>ตายในตึกหลัง 24 ชม. - 30 วัน</th>\n",
       "      <td>302</td>\n",
       "    </tr>\n",
       "    <tr>\n",
       "      <th>ทุเลา/หาย</th>\n",
       "      <td>211386</td>\n",
       "    </tr>\n",
       "  </tbody>\n",
       "</table>\n",
       "</div>"
      ],
      "text/plain": [
       "                              ผลการรักษา\n",
       "                                   count\n",
       "ผลการรักษา                              \n",
       "ตายที่ห้องฉุกเฉิน                    492\n",
       "ตายที่เกิดเหตุ                      2137\n",
       "ตายระหว่างนำส่ง                      111\n",
       "ตายระหว่างส่งต่อ                      59\n",
       "ตายในตึกภายใน 24 ชม. หลังเหตุ        463\n",
       "ตายในตึกหลัง 24 ชม. - 30 วัน         302\n",
       "ทุเลา/หาย                         211386"
      ]
     },
     "execution_count": 11,
     "metadata": {},
     "output_type": "execute_result"
    }
   ],
   "source": [
    "df.groupby(by='ผลการรักษา').agg({'ผลการรักษา':['count']})"
   ]
  },
  {
   "cell_type": "code",
   "execution_count": 12,
   "metadata": {},
   "outputs": [
    {
     "data": {
      "text/html": [
       "<div>\n",
       "<style scoped>\n",
       "    .dataframe tbody tr th:only-of-type {\n",
       "        vertical-align: middle;\n",
       "    }\n",
       "\n",
       "    .dataframe tbody tr th {\n",
       "        vertical-align: top;\n",
       "    }\n",
       "\n",
       "    .dataframe thead tr th {\n",
       "        text-align: left;\n",
       "    }\n",
       "\n",
       "    .dataframe thead tr:last-of-type th {\n",
       "        text-align: right;\n",
       "    }\n",
       "</style>\n",
       "<table border=\"1\" class=\"dataframe\">\n",
       "  <thead>\n",
       "    <tr>\n",
       "      <th></th>\n",
       "      <th>รถผู้บาดเจ็บ</th>\n",
       "    </tr>\n",
       "    <tr>\n",
       "      <th></th>\n",
       "      <th>count</th>\n",
       "    </tr>\n",
       "    <tr>\n",
       "      <th>รถผู้บาดเจ็บ</th>\n",
       "      <th></th>\n",
       "    </tr>\n",
       "  </thead>\n",
       "  <tbody>\n",
       "    <tr>\n",
       "      <th>จักรยานยนต์</th>\n",
       "      <td>170992</td>\n",
       "    </tr>\n",
       "    <tr>\n",
       "      <th>ปิคอัพ</th>\n",
       "      <td>12902</td>\n",
       "    </tr>\n",
       "    <tr>\n",
       "      <th>รถจักรยาน</th>\n",
       "      <td>9814</td>\n",
       "    </tr>\n",
       "    <tr>\n",
       "      <th>รถตู้</th>\n",
       "      <td>1102</td>\n",
       "    </tr>\n",
       "    <tr>\n",
       "      <th>รถบรรทุก</th>\n",
       "      <td>651</td>\n",
       "    </tr>\n",
       "    <tr>\n",
       "      <th>รถเก๋ง/แท็กซี่</th>\n",
       "      <td>6150</td>\n",
       "    </tr>\n",
       "    <tr>\n",
       "      <th>รถโดยสาร 4 ล้อ</th>\n",
       "      <td>535</td>\n",
       "    </tr>\n",
       "    <tr>\n",
       "      <th>รถโดยสารใหญ่</th>\n",
       "      <td>874</td>\n",
       "    </tr>\n",
       "    <tr>\n",
       "      <th>สามล้อถีบ</th>\n",
       "      <td>185</td>\n",
       "    </tr>\n",
       "    <tr>\n",
       "      <th>สามล้อเครื่อง</th>\n",
       "      <td>1906</td>\n",
       "    </tr>\n",
       "    <tr>\n",
       "      <th>อื่นๆ</th>\n",
       "      <td>2145</td>\n",
       "    </tr>\n",
       "    <tr>\n",
       "      <th>ไม่ทราบ</th>\n",
       "      <td>1220</td>\n",
       "    </tr>\n",
       "    <tr>\n",
       "      <th>ไม่มี/ล้มเอง</th>\n",
       "      <td>6474</td>\n",
       "    </tr>\n",
       "  </tbody>\n",
       "</table>\n",
       "</div>"
      ],
      "text/plain": [
       "               รถผู้บาดเจ็บ\n",
       "                      count\n",
       "รถผู้บาดเจ็บ               \n",
       "จักรยานยนต์          170992\n",
       "ปิคอัพ                12902\n",
       "รถจักรยาน              9814\n",
       "รถตู้                  1102\n",
       "รถบรรทุก                651\n",
       "รถเก๋ง/แท็กซี่         6150\n",
       "รถโดยสาร 4 ล้อ          535\n",
       "รถโดยสารใหญ่            874\n",
       "สามล้อถีบ               185\n",
       "สามล้อเครื่อง          1906\n",
       "อื่นๆ                  2145\n",
       "ไม่ทราบ                1220\n",
       "ไม่มี/ล้มเอง           6474"
      ]
     },
     "execution_count": 12,
     "metadata": {},
     "output_type": "execute_result"
    }
   ],
   "source": [
    "df.groupby(by='รถผู้บาดเจ็บ').agg({'รถผู้บาดเจ็บ':['count']})"
   ]
  },
  {
   "cell_type": "code",
   "execution_count": 13,
   "metadata": {},
   "outputs": [
    {
     "data": {
      "text/plain": [
       "\"table = []\\nname = []\\ncolumns=[]\\nfor i in range(len(df.groupby(by='รถผู้บาดเจ็บ').agg({'รถผู้บาดเจ็บ':['count']}))):\\n    table.append([])\\n    #name.append([])\\n    columns.append([])\\nfor i in range(len(df.groupby(by='รถผู้บาดเจ็บ').agg({'รถผู้บาดเจ็บ':['count']}))):\\n    name.append(df.groupby(by='รถผู้บาดเจ็บ').agg({'รถผู้บาดเจ็บ':['count']}).iloc[i].name)\\n    for j in range(len(df.groupby(by='ชื่อเทศกาล').agg({'ชื่อเทศกาล':['count']}))):\\n        columns[j] = 'Year '+df.groupby(by='ชื่อเทศกาล').agg({'ชื่อเทศกาล':['count']}).iloc[j].name\\n        table[i].append(j)\\n        table[i][j] = df[df['ชื่อเทศกาล']==df.groupby(by='ชื่อเทศกาล').agg({'ชื่อเทศกาล':['count']}).iloc[j].name].            groupby(by='รถผู้บาดเจ็บ').agg({'รถผู้บาดเจ็บ':['count']}).iloc[i].values[0]\""
      ]
     },
     "execution_count": 13,
     "metadata": {},
     "output_type": "execute_result"
    }
   ],
   "source": [
    "'''table = []\n",
    "name = []\n",
    "columns=[]\n",
    "for i in range(len(df.groupby(by='รถผู้บาดเจ็บ').agg({'รถผู้บาดเจ็บ':['count']}))):\n",
    "    table.append([])\n",
    "    #name.append([])\n",
    "    columns.append([])\n",
    "for i in range(len(df.groupby(by='รถผู้บาดเจ็บ').agg({'รถผู้บาดเจ็บ':['count']}))):\n",
    "    name.append(df.groupby(by='รถผู้บาดเจ็บ').agg({'รถผู้บาดเจ็บ':['count']}).iloc[i].name)\n",
    "    for j in range(len(df.groupby(by='ชื่อเทศกาล').agg({'ชื่อเทศกาล':['count']}))):\n",
    "        columns[j] = 'Year '+df.groupby(by='ชื่อเทศกาล').agg({'ชื่อเทศกาล':['count']}).iloc[j].name\n",
    "        table[i].append(j)\n",
    "        table[i][j] = df[df['ชื่อเทศกาล']==df.groupby(by='ชื่อเทศกาล').agg({'ชื่อเทศกาล':['count']}).iloc[j].name].\\\n",
    "            groupby(by='รถผู้บาดเจ็บ').agg({'รถผู้บาดเจ็บ':['count']}).iloc[i].values[0]'''"
   ]
  },
  {
   "cell_type": "code",
   "execution_count": 14,
   "metadata": {},
   "outputs": [
    {
     "data": {
      "text/plain": [
       "\"index = np.arange(len(columns)) + 0.3\\ncell_text = []\\ncolors = plt.cm.BuPu(np.linspace(0, 0.5, len(name)))\\ny_offset = np.zeros(len(columns))\\nbar_width = 0.4\\nvalues = np.arange(0, 25000, 1000)\\nfor row in range(len(table)):\\n    plt.bar(index, table[row], bar_width, bottom=y_offset,color=colors[row])\\n    y_offset = y_offset + table[row]\\n    cell_text.append(['%1.1f' % (x / 1000.0) for x in y_offset])\\n# Reverse colors and text labels to display the last value at the top.\\ncolors = colors[::-1]\\ncell_text.reverse()\""
      ]
     },
     "execution_count": 14,
     "metadata": {},
     "output_type": "execute_result"
    }
   ],
   "source": [
    "'''index = np.arange(len(columns)) + 0.3\n",
    "cell_text = []\n",
    "colors = plt.cm.BuPu(np.linspace(0, 0.5, len(name)))\n",
    "y_offset = np.zeros(len(columns))\n",
    "bar_width = 0.4\n",
    "values = np.arange(0, 25000, 1000)\n",
    "for row in range(len(table)):\n",
    "    plt.bar(index, table[row], bar_width, bottom=y_offset,color=colors[row])\n",
    "    y_offset = y_offset + table[row]\n",
    "    cell_text.append(['%1.1f' % (x / 1000.0) for x in y_offset])\n",
    "# Reverse colors and text labels to display the last value at the top.\n",
    "colors = colors[::-1]\n",
    "cell_text.reverse()'''"
   ]
  },
  {
   "cell_type": "code",
   "execution_count": 15,
   "metadata": {},
   "outputs": [
    {
     "data": {
      "text/plain": [
       "\"plt.table(cellText=table,rowColours=colors,rowLabels= name,colLabels=columns,loc='bottom')\""
      ]
     },
     "execution_count": 15,
     "metadata": {},
     "output_type": "execute_result"
    }
   ],
   "source": [
    "'''plt.table(cellText=table,rowColours=colors,rowLabels= name,colLabels=columns,loc='bottom')'''"
   ]
  },
  {
   "cell_type": "code",
   "execution_count": 16,
   "metadata": {},
   "outputs": [
    {
     "data": {
      "text/plain": [
       "\"data = [[ 66386, 174296,  75131, 577908,  32015],\\n        [ 58230, 381139,  78045,  99308, 160454],\\n        [ 89135,  80552, 152558, 497981, 603535],\\n        [ 78415,  81858, 150656, 193263,  69638],\\n        [139361, 331509, 343164, 781380,  52269]]\\n\\ncolumns = ('Freeze', 'Wind', 'Flood', 'Quake', 'Hail')\\nrows = ['%d year' % x for x in (100, 50, 20, 10, 5)]\\n\\nvalues = np.arange(0, 2500, 500)\\nvalue_increment = 1000\\n\\n# Get some pastel shades for the colors\\ncolors = plt.cm.BuPu(np.linspace(0, 0.5, len(rows)))\\nn_rows = len(data)\\n\\nindex = np.arange(len(columns)) + 0.3\\nbar_width = 0.4\\n\\n# Initialize the vertical-offset for the stacked bar chart.\\ny_offset = np.zeros(len(columns))\\n\\n# Plot bars and create text labels for the table\\ncell_text = []\\nfor row in range(n_rows):\\n    plt.bar(index, data[row], bar_width, bottom=y_offset, color=colors[row])\\n    y_offset = y_offset + data[row]\\n    cell_text.append(['%1.1f' % (x / 1000.0) for x in y_offset])\\n# Reverse colors and text labels to display the last value at the top.\\ncolors = colors[::-1]\\ncell_text.reverse()\\n\\n# Add a table at the bottom of the axes\\nthe_table = plt.table(cellText=cell_text,\\n                      rowLabels=rows,\\n                      rowColours=colors,\\n                      colLabels=columns,\\n                      loc='bottom')\""
      ]
     },
     "execution_count": 16,
     "metadata": {},
     "output_type": "execute_result"
    }
   ],
   "source": [
    "'''data = [[ 66386, 174296,  75131, 577908,  32015],\n",
    "        [ 58230, 381139,  78045,  99308, 160454],\n",
    "        [ 89135,  80552, 152558, 497981, 603535],\n",
    "        [ 78415,  81858, 150656, 193263,  69638],\n",
    "        [139361, 331509, 343164, 781380,  52269]]\n",
    "\n",
    "columns = ('Freeze', 'Wind', 'Flood', 'Quake', 'Hail')\n",
    "rows = ['%d year' % x for x in (100, 50, 20, 10, 5)]\n",
    "\n",
    "values = np.arange(0, 2500, 500)\n",
    "value_increment = 1000\n",
    "\n",
    "# Get some pastel shades for the colors\n",
    "colors = plt.cm.BuPu(np.linspace(0, 0.5, len(rows)))\n",
    "n_rows = len(data)\n",
    "\n",
    "index = np.arange(len(columns)) + 0.3\n",
    "bar_width = 0.4\n",
    "\n",
    "# Initialize the vertical-offset for the stacked bar chart.\n",
    "y_offset = np.zeros(len(columns))\n",
    "\n",
    "# Plot bars and create text labels for the table\n",
    "cell_text = []\n",
    "for row in range(n_rows):\n",
    "    plt.bar(index, data[row], bar_width, bottom=y_offset, color=colors[row])\n",
    "    y_offset = y_offset + data[row]\n",
    "    cell_text.append(['%1.1f' % (x / 1000.0) for x in y_offset])\n",
    "# Reverse colors and text labels to display the last value at the top.\n",
    "colors = colors[::-1]\n",
    "cell_text.reverse()\n",
    "\n",
    "# Add a table at the bottom of the axes\n",
    "the_table = plt.table(cellText=cell_text,\n",
    "                      rowLabels=rows,\n",
    "                      rowColours=colors,\n",
    "                      colLabels=columns,\n",
    "                      loc='bottom')'''"
   ]
  },
  {
   "cell_type": "code",
   "execution_count": 17,
   "metadata": {},
   "outputs": [],
   "source": [
    "data = []\n",
    "rows = []\n",
    "columns=[]\n",
    "for i in range(len(df.groupby(by='รถผู้บาดเจ็บ').agg({'รถผู้บาดเจ็บ':['count']}))):\n",
    "    data.append([])\n",
    "    #name.append([])\n",
    "    columns.append([])\n",
    "for i in range(len(df.groupby(by='รถผู้บาดเจ็บ').agg({'รถผู้บาดเจ็บ':['count']}))):\n",
    "    rows.append(df.groupby(by='รถผู้บาดเจ็บ').agg({'รถผู้บาดเจ็บ':['count']}).iloc[i].name)\n",
    "    for j in range(len(df.groupby(by='ชื่อเทศกาล').agg({'ชื่อเทศกาล':['count']}))):\n",
    "        columns[j] = df.groupby(by='ชื่อเทศกาล').agg({'ชื่อเทศกาล':['count']}).iloc[j].name\n",
    "        data[i].append(j)\n",
    "        data[i][j] = df[df['ชื่อเทศกาล']==df.groupby(by='ชื่อเทศกาล').agg({'ชื่อเทศกาล':['count']}).iloc[j].name].\\\n",
    "            groupby(by='รถผู้บาดเจ็บ').agg({'รถผู้บาดเจ็บ':['count']}).iloc[i].values[0]"
   ]
  },
  {
   "cell_type": "code",
   "execution_count": 18,
   "metadata": {},
   "outputs": [
    {
     "ename": "ValueError",
     "evalue": "shape mismatch: objects cannot be broadcast to a single shape",
     "output_type": "error",
     "traceback": [
      "\u001b[0;31m---------------------------------------------------------------------------\u001b[0m",
      "\u001b[0;31mValueError\u001b[0m                                Traceback (most recent call last)",
      "\u001b[0;32m<ipython-input-18-5f271a19e31b>\u001b[0m in \u001b[0;36m<module>\u001b[0;34m\u001b[0m\n\u001b[1;32m     14\u001b[0m \u001b[0mcell_text\u001b[0m \u001b[0;34m=\u001b[0m \u001b[0;34m[\u001b[0m\u001b[0;34m]\u001b[0m\u001b[0;34m\u001b[0m\u001b[0;34m\u001b[0m\u001b[0m\n\u001b[1;32m     15\u001b[0m \u001b[0;32mfor\u001b[0m \u001b[0mrow\u001b[0m \u001b[0;32min\u001b[0m \u001b[0mrange\u001b[0m\u001b[0;34m(\u001b[0m\u001b[0mn_rows\u001b[0m\u001b[0;34m)\u001b[0m\u001b[0;34m:\u001b[0m\u001b[0;34m\u001b[0m\u001b[0;34m\u001b[0m\u001b[0m\n\u001b[0;32m---> 16\u001b[0;31m     \u001b[0mplt\u001b[0m\u001b[0;34m.\u001b[0m\u001b[0mbar\u001b[0m\u001b[0;34m(\u001b[0m\u001b[0mindex\u001b[0m\u001b[0;34m,\u001b[0m \u001b[0mdata\u001b[0m\u001b[0;34m[\u001b[0m\u001b[0mrow\u001b[0m\u001b[0;34m]\u001b[0m\u001b[0;34m,\u001b[0m \u001b[0mbar_width\u001b[0m\u001b[0;34m,\u001b[0m \u001b[0mbottom\u001b[0m\u001b[0;34m=\u001b[0m\u001b[0my_offset\u001b[0m\u001b[0;34m,\u001b[0m \u001b[0mcolor\u001b[0m\u001b[0;34m=\u001b[0m\u001b[0mcolors\u001b[0m\u001b[0;34m[\u001b[0m\u001b[0mrow\u001b[0m\u001b[0;34m]\u001b[0m\u001b[0;34m)\u001b[0m\u001b[0;34m\u001b[0m\u001b[0;34m\u001b[0m\u001b[0m\n\u001b[0m\u001b[1;32m     17\u001b[0m     \u001b[0my_offset\u001b[0m \u001b[0;34m=\u001b[0m \u001b[0my_offset\u001b[0m \u001b[0;34m+\u001b[0m \u001b[0mdata\u001b[0m\u001b[0;34m[\u001b[0m\u001b[0mrow\u001b[0m\u001b[0;34m]\u001b[0m\u001b[0;34m\u001b[0m\u001b[0;34m\u001b[0m\u001b[0m\n\u001b[1;32m     18\u001b[0m     \u001b[0mcell_text\u001b[0m\u001b[0;34m.\u001b[0m\u001b[0mappend\u001b[0m\u001b[0;34m(\u001b[0m\u001b[0;34m[\u001b[0m\u001b[0;34m'%1.1f'\u001b[0m \u001b[0;34m%\u001b[0m \u001b[0;34m(\u001b[0m\u001b[0mx\u001b[0m \u001b[0;34m/\u001b[0m \u001b[0;36m1000.0\u001b[0m\u001b[0;34m)\u001b[0m \u001b[0;32mfor\u001b[0m \u001b[0mx\u001b[0m \u001b[0;32min\u001b[0m \u001b[0my_offset\u001b[0m\u001b[0;34m]\u001b[0m\u001b[0;34m)\u001b[0m\u001b[0;34m\u001b[0m\u001b[0;34m\u001b[0m\u001b[0m\n",
      "\u001b[0;32m/Library/Frameworks/Python.framework/Versions/3.7/lib/python3.7/site-packages/matplotlib/pyplot.py\u001b[0m in \u001b[0;36mbar\u001b[0;34m(x, height, width, bottom, align, data, **kwargs)\u001b[0m\n\u001b[1;32m   2457\u001b[0m     return gca().bar(\n\u001b[1;32m   2458\u001b[0m         \u001b[0mx\u001b[0m\u001b[0;34m,\u001b[0m \u001b[0mheight\u001b[0m\u001b[0;34m,\u001b[0m \u001b[0mwidth\u001b[0m\u001b[0;34m=\u001b[0m\u001b[0mwidth\u001b[0m\u001b[0;34m,\u001b[0m \u001b[0mbottom\u001b[0m\u001b[0;34m=\u001b[0m\u001b[0mbottom\u001b[0m\u001b[0;34m,\u001b[0m \u001b[0malign\u001b[0m\u001b[0;34m=\u001b[0m\u001b[0malign\u001b[0m\u001b[0;34m,\u001b[0m\u001b[0;34m\u001b[0m\u001b[0;34m\u001b[0m\u001b[0m\n\u001b[0;32m-> 2459\u001b[0;31m         **({\"data\": data} if data is not None else {}), **kwargs)\n\u001b[0m\u001b[1;32m   2460\u001b[0m \u001b[0;34m\u001b[0m\u001b[0m\n\u001b[1;32m   2461\u001b[0m \u001b[0;34m\u001b[0m\u001b[0m\n",
      "\u001b[0;32m/Library/Frameworks/Python.framework/Versions/3.7/lib/python3.7/site-packages/matplotlib/__init__.py\u001b[0m in \u001b[0;36minner\u001b[0;34m(ax, data, *args, **kwargs)\u001b[0m\n\u001b[1;32m   1808\u001b[0m                         \u001b[0;34m\"the Matplotlib list!)\"\u001b[0m \u001b[0;34m%\u001b[0m \u001b[0;34m(\u001b[0m\u001b[0mlabel_namer\u001b[0m\u001b[0;34m,\u001b[0m \u001b[0mfunc\u001b[0m\u001b[0;34m.\u001b[0m\u001b[0m__name__\u001b[0m\u001b[0;34m)\u001b[0m\u001b[0;34m,\u001b[0m\u001b[0;34m\u001b[0m\u001b[0;34m\u001b[0m\u001b[0m\n\u001b[1;32m   1809\u001b[0m                         RuntimeWarning, stacklevel=2)\n\u001b[0;32m-> 1810\u001b[0;31m             \u001b[0;32mreturn\u001b[0m \u001b[0mfunc\u001b[0m\u001b[0;34m(\u001b[0m\u001b[0max\u001b[0m\u001b[0;34m,\u001b[0m \u001b[0;34m*\u001b[0m\u001b[0margs\u001b[0m\u001b[0;34m,\u001b[0m \u001b[0;34m**\u001b[0m\u001b[0mkwargs\u001b[0m\u001b[0;34m)\u001b[0m\u001b[0;34m\u001b[0m\u001b[0;34m\u001b[0m\u001b[0m\n\u001b[0m\u001b[1;32m   1811\u001b[0m \u001b[0;34m\u001b[0m\u001b[0m\n\u001b[1;32m   1812\u001b[0m         inner.__doc__ = _add_data_doc(inner.__doc__,\n",
      "\u001b[0;32m/Library/Frameworks/Python.framework/Versions/3.7/lib/python3.7/site-packages/matplotlib/axes/_axes.py\u001b[0m in \u001b[0;36mbar\u001b[0;34m(self, x, height, width, bottom, align, **kwargs)\u001b[0m\n\u001b[1;32m   2249\u001b[0m         x, height, width, y, linewidth = np.broadcast_arrays(\n\u001b[1;32m   2250\u001b[0m             \u001b[0;31m# Make args iterable too.\u001b[0m\u001b[0;34m\u001b[0m\u001b[0;34m\u001b[0m\u001b[0;34m\u001b[0m\u001b[0m\n\u001b[0;32m-> 2251\u001b[0;31m             np.atleast_1d(x), height, width, y, linewidth)\n\u001b[0m\u001b[1;32m   2252\u001b[0m \u001b[0;34m\u001b[0m\u001b[0m\n\u001b[1;32m   2253\u001b[0m         \u001b[0;31m# Now that units have been converted, set the tick locations.\u001b[0m\u001b[0;34m\u001b[0m\u001b[0;34m\u001b[0m\u001b[0;34m\u001b[0m\u001b[0m\n",
      "\u001b[0;32m/Library/Frameworks/Python.framework/Versions/3.7/lib/python3.7/site-packages/numpy/lib/stride_tricks.py\u001b[0m in \u001b[0;36mbroadcast_arrays\u001b[0;34m(*args, **kwargs)\u001b[0m\n\u001b[1;32m    257\u001b[0m     \u001b[0margs\u001b[0m \u001b[0;34m=\u001b[0m \u001b[0;34m[\u001b[0m\u001b[0mnp\u001b[0m\u001b[0;34m.\u001b[0m\u001b[0marray\u001b[0m\u001b[0;34m(\u001b[0m\u001b[0m_m\u001b[0m\u001b[0;34m,\u001b[0m \u001b[0mcopy\u001b[0m\u001b[0;34m=\u001b[0m\u001b[0;32mFalse\u001b[0m\u001b[0;34m,\u001b[0m \u001b[0msubok\u001b[0m\u001b[0;34m=\u001b[0m\u001b[0msubok\u001b[0m\u001b[0;34m)\u001b[0m \u001b[0;32mfor\u001b[0m \u001b[0m_m\u001b[0m \u001b[0;32min\u001b[0m \u001b[0margs\u001b[0m\u001b[0;34m]\u001b[0m\u001b[0;34m\u001b[0m\u001b[0;34m\u001b[0m\u001b[0m\n\u001b[1;32m    258\u001b[0m \u001b[0;34m\u001b[0m\u001b[0m\n\u001b[0;32m--> 259\u001b[0;31m     \u001b[0mshape\u001b[0m \u001b[0;34m=\u001b[0m \u001b[0m_broadcast_shape\u001b[0m\u001b[0;34m(\u001b[0m\u001b[0;34m*\u001b[0m\u001b[0margs\u001b[0m\u001b[0;34m)\u001b[0m\u001b[0;34m\u001b[0m\u001b[0;34m\u001b[0m\u001b[0m\n\u001b[0m\u001b[1;32m    260\u001b[0m \u001b[0;34m\u001b[0m\u001b[0m\n\u001b[1;32m    261\u001b[0m     \u001b[0;32mif\u001b[0m \u001b[0mall\u001b[0m\u001b[0;34m(\u001b[0m\u001b[0marray\u001b[0m\u001b[0;34m.\u001b[0m\u001b[0mshape\u001b[0m \u001b[0;34m==\u001b[0m \u001b[0mshape\u001b[0m \u001b[0;32mfor\u001b[0m \u001b[0marray\u001b[0m \u001b[0;32min\u001b[0m \u001b[0margs\u001b[0m\u001b[0;34m)\u001b[0m\u001b[0;34m:\u001b[0m\u001b[0;34m\u001b[0m\u001b[0;34m\u001b[0m\u001b[0m\n",
      "\u001b[0;32m/Library/Frameworks/Python.framework/Versions/3.7/lib/python3.7/site-packages/numpy/lib/stride_tricks.py\u001b[0m in \u001b[0;36m_broadcast_shape\u001b[0;34m(*args)\u001b[0m\n\u001b[1;32m    191\u001b[0m     \u001b[0;31m# use the old-iterator because np.nditer does not handle size 0 arrays\u001b[0m\u001b[0;34m\u001b[0m\u001b[0;34m\u001b[0m\u001b[0;34m\u001b[0m\u001b[0m\n\u001b[1;32m    192\u001b[0m     \u001b[0;31m# consistently\u001b[0m\u001b[0;34m\u001b[0m\u001b[0;34m\u001b[0m\u001b[0;34m\u001b[0m\u001b[0m\n\u001b[0;32m--> 193\u001b[0;31m     \u001b[0mb\u001b[0m \u001b[0;34m=\u001b[0m \u001b[0mnp\u001b[0m\u001b[0;34m.\u001b[0m\u001b[0mbroadcast\u001b[0m\u001b[0;34m(\u001b[0m\u001b[0;34m*\u001b[0m\u001b[0margs\u001b[0m\u001b[0;34m[\u001b[0m\u001b[0;34m:\u001b[0m\u001b[0;36m32\u001b[0m\u001b[0;34m]\u001b[0m\u001b[0;34m)\u001b[0m\u001b[0;34m\u001b[0m\u001b[0;34m\u001b[0m\u001b[0m\n\u001b[0m\u001b[1;32m    194\u001b[0m     \u001b[0;31m# unfortunately, it cannot handle 32 or more arguments directly\u001b[0m\u001b[0;34m\u001b[0m\u001b[0;34m\u001b[0m\u001b[0;34m\u001b[0m\u001b[0m\n\u001b[1;32m    195\u001b[0m     \u001b[0;32mfor\u001b[0m \u001b[0mpos\u001b[0m \u001b[0;32min\u001b[0m \u001b[0mrange\u001b[0m\u001b[0;34m(\u001b[0m\u001b[0;36m32\u001b[0m\u001b[0;34m,\u001b[0m \u001b[0mlen\u001b[0m\u001b[0;34m(\u001b[0m\u001b[0margs\u001b[0m\u001b[0;34m)\u001b[0m\u001b[0;34m,\u001b[0m \u001b[0;36m31\u001b[0m\u001b[0;34m)\u001b[0m\u001b[0;34m:\u001b[0m\u001b[0;34m\u001b[0m\u001b[0;34m\u001b[0m\u001b[0m\n",
      "\u001b[0;31mValueError\u001b[0m: shape mismatch: objects cannot be broadcast to a single shape"
     ]
    },
    {
     "data": {
      "image/png": "[encoded data removed]",
      "text/plain": [
       "<Figure size 432x288 with 1 Axes>"
      ]
     },
     "metadata": {
      "needs_background": "light"
     },
     "output_type": "display_data"
    }
   ],
   "source": [
    "values = np.arange(0, 25000, 5000)\n",
    "\n",
    "# Get some pastel shades for the colors\n",
    "colors = plt.cm.BuPu(np.linspace(0, 0.5, len(rows)))\n",
    "n_rows = len(data)\n",
    "\n",
    "index = np.arange(len(columns)) + 0.3\n",
    "bar_width = 0.4\n",
    "\n",
    "# Initialize the vertical-offset for the stacked bar chart.\n",
    "y_offset = np.zeros(len(columns))\n",
    "\n",
    "# Plot bars and create text labels for the table\n",
    "cell_text = []\n",
    "for row in range(n_rows):\n",
    "    plt.bar(index, data[row], bar_width, bottom=y_offset, color=colors[row])\n",
    "    y_offset = y_offset + data[row]\n",
    "    cell_text.append(['%1.1f' % (x / 1000.0) for x in y_offset])\n",
    "# Reverse colors and text labels to display the last value at the top.\n",
    "colors = colors[::-1]\n",
    "cell_text.reverse()\n",
    "\n",
    "# Add a table at the bottom of the axes\n",
    "the_table = plt.table(cellText=cell_text,\n",
    "                      rowLabels=rows,\n",
    "                      rowColours=colors,\n",
    "                      colLabels=columns,\n",
    "                      loc='bottom')"
   ]
  },
  {
   "cell_type": "code",
   "execution_count": 29,
   "metadata": {},
   "outputs": [
    {
     "data": {
      "text/plain": [
       "array([[0.96862745, 0.98823529, 0.99215686, 1.        ],\n",
       "       [0.94033064, 0.96855056, 0.9810842 , 1.        ],\n",
       "       [0.90920415, 0.94689735, 0.96890427, 1.        ],\n",
       "       [0.87792388, 0.92510573, 0.95664744, 1.        ],\n",
       "       [0.83732411, 0.89434833, 0.9394233 , 1.        ],\n",
       "       [0.79266436, 0.86051519, 0.92047674, 1.        ],\n",
       "       [0.74800461, 0.82674356, 0.9015917 , 1.        ],\n",
       "       [0.70740484, 0.79844675, 0.88682814, 1.        ],\n",
       "       [0.6627451 , 0.76732026, 0.87058824, 1.        ],\n",
       "       [0.61877739, 0.73550173, 0.85397924, 1.        ],\n",
       "       [0.59663206, 0.68875048, 0.82937332, 1.        ],\n",
       "       [0.5722722 , 0.63732411, 0.80230681, 1.        ],\n",
       "       [0.54901961, 0.58559016, 0.77517878, 1.        ]])"
      ]
     },
     "execution_count": 29,
     "metadata": {},
     "output_type": "execute_result"
    }
   ],
   "source": []
  },
  {
   "cell_type": "code",
   "execution_count": null,
   "metadata": {},
   "outputs": [],
   "source": []
  }
 ],
 "metadata": {
  "kernelspec": {
   "display_name": "Python 3",
   "language": "python",
   "name": "python3"
  },
  "language_info": {
   "codemirror_mode": {
    "name": "ipython",
    "version": 3
   },
   "file_extension": ".py",
   "mimetype": "text/x-python",
   "name": "python",
   "nbconvert_exporter": "python",
   "pygments_lexer": "ipython3",
   "version": "3.7.2"
  }
 },
 "nbformat": 4,
 "nbformat_minor": 2
}
